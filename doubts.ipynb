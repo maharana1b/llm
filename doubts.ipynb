{
 "cells": [
  {
   "cell_type": "code",
   "execution_count": 1,
   "metadata": {},
   "outputs": [],
   "source": [
    "chars = ['a','b','c','d','e','f','g','h','i','j','k','l','m','n','o','p','q','r','s','t','u',\n",
    "         'v','w','x','y','z']"
   ]
  },
  {
   "cell_type": "code",
   "execution_count": 2,
   "metadata": {},
   "outputs": [],
   "source": [
    "string_to_int = {}"
   ]
  },
  {
   "cell_type": "code",
   "execution_count": 3,
   "metadata": {},
   "outputs": [
    {
     "name": "stdout",
     "output_type": "stream",
     "text": [
      "x: 0\n",
      "y: a\n",
      "x: 1\n",
      "y: b\n",
      "x: 2\n",
      "y: c\n",
      "x: 3\n",
      "y: d\n",
      "x: 4\n",
      "y: e\n",
      "x: 5\n",
      "y: f\n",
      "x: 6\n",
      "y: g\n",
      "x: 7\n",
      "y: h\n",
      "x: 8\n",
      "y: i\n",
      "x: 9\n",
      "y: j\n",
      "x: 10\n",
      "y: k\n",
      "x: 11\n",
      "y: l\n",
      "x: 12\n",
      "y: m\n",
      "x: 13\n",
      "y: n\n",
      "x: 14\n",
      "y: o\n",
      "x: 15\n",
      "y: p\n",
      "x: 16\n",
      "y: q\n",
      "x: 17\n",
      "y: r\n",
      "x: 18\n",
      "y: s\n",
      "x: 19\n",
      "y: t\n",
      "x: 20\n",
      "y: u\n",
      "x: 21\n",
      "y: v\n",
      "x: 22\n",
      "y: w\n",
      "x: 23\n",
      "y: x\n",
      "x: 24\n",
      "y: y\n",
      "x: 25\n",
      "y: z\n"
     ]
    }
   ],
   "source": [
    "for x,y in enumerate(chars):\n",
    "    print('x:',x)\n",
    "    print('y:',y)"
   ]
  },
  {
   "cell_type": "code",
   "execution_count": 4,
   "metadata": {},
   "outputs": [],
   "source": [
    "for x,y in enumerate(chars):\n",
    "    string_to_int[y] = x"
   ]
  },
  {
   "cell_type": "code",
   "execution_count": 5,
   "metadata": {},
   "outputs": [
    {
     "name": "stdout",
     "output_type": "stream",
     "text": [
      "{'a': 0, 'b': 1, 'c': 2, 'd': 3, 'e': 4, 'f': 5, 'g': 6, 'h': 7, 'i': 8, 'j': 9, 'k': 10, 'l': 11, 'm': 12, 'n': 13, 'o': 14, 'p': 15, 'q': 16, 'r': 17, 's': 18, 't': 19, 'u': 20, 'v': 21, 'w': 22, 'x': 23, 'y': 24, 'z': 25}\n"
     ]
    }
   ],
   "source": [
    "print(string_to_int)"
   ]
  },
  {
   "cell_type": "code",
   "execution_count": 2,
   "metadata": {},
   "outputs": [],
   "source": [
    "import pandas as pd"
   ]
  },
  {
   "cell_type": "code",
   "execution_count": 4,
   "metadata": {},
   "outputs": [
    {
     "data": {
      "text/html": [
       "<div>\n",
       "<style scoped>\n",
       "    .dataframe tbody tr th:only-of-type {\n",
       "        vertical-align: middle;\n",
       "    }\n",
       "\n",
       "    .dataframe tbody tr th {\n",
       "        vertical-align: top;\n",
       "    }\n",
       "\n",
       "    .dataframe thead th {\n",
       "        text-align: right;\n",
       "    }\n",
       "</style>\n",
       "<table border=\"1\" class=\"dataframe\">\n",
       "  <thead>\n",
       "    <tr style=\"text-align: right;\">\n",
       "      <th></th>\n",
       "      <th>id</th>\n",
       "      <th>summary</th>\n",
       "      <th>dialog</th>\n",
       "    </tr>\n",
       "  </thead>\n",
       "  <tbody>\n",
       "    <tr>\n",
       "      <th>0</th>\n",
       "      <td>1</td>\n",
       "      <td>capital of India is New Delhi</td>\n",
       "      <td>Hi have you heard of the capital of India whic...</td>\n",
       "    </tr>\n",
       "    <tr>\n",
       "      <th>1</th>\n",
       "      <td>2</td>\n",
       "      <td>Capital of Odisha is Bhubaneswar</td>\n",
       "      <td>Hi do you know about capital of Odisha is Bhub...</td>\n",
       "    </tr>\n",
       "    <tr>\n",
       "      <th>2</th>\n",
       "      <td>3</td>\n",
       "      <td>first emperor of the Maurya Dynasty is Chandra...</td>\n",
       "      <td>Chandragupta Maurya</td>\n",
       "    </tr>\n",
       "    <tr>\n",
       "      <th>3</th>\n",
       "      <td>4</td>\n",
       "      <td>The ancient Indian text is considered the olde...</td>\n",
       "      <td>Rigveda</td>\n",
       "    </tr>\n",
       "  </tbody>\n",
       "</table>\n",
       "</div>"
      ],
      "text/plain": [
       "   id                                            summary  \\\n",
       "0   1                      capital of India is New Delhi   \n",
       "1   2                   Capital of Odisha is Bhubaneswar   \n",
       "2   3  first emperor of the Maurya Dynasty is Chandra...   \n",
       "3   4  The ancient Indian text is considered the olde...   \n",
       "\n",
       "                                              dialog  \n",
       "0  Hi have you heard of the capital of India whic...  \n",
       "1  Hi do you know about capital of Odisha is Bhub...  \n",
       "2                               Chandragupta Maurya   \n",
       "3                                           Rigveda   "
      ]
     },
     "execution_count": 4,
     "metadata": {},
     "output_type": "execute_result"
    }
   ],
   "source": [
    "df = pd.read_csv(\"E:/LLM/data/history.csv\")\n",
    "df.head()"
   ]
  },
  {
   "cell_type": "code",
   "execution_count": 5,
   "metadata": {},
   "outputs": [],
   "source": [
    "id_list = list(df[\"id\"])\n",
    "summary_list = list(df[\"summary\"])\n",
    "dialog_list = list(df[\"dialog\"])"
   ]
  },
  {
   "cell_type": "code",
   "execution_count": 6,
   "metadata": {},
   "outputs": [
    {
     "name": "stdout",
     "output_type": "stream",
     "text": [
      "['Hi have you heard of the capital of India which is New Delhi', 'Hi do you know about capital of Odisha is Bhubaneswar and it is also known as temple city of India.', 'Chandragupta Maurya ', 'Rigveda ']\n"
     ]
    }
   ],
   "source": [
    "print(dialog_list)"
   ]
  },
  {
   "cell_type": "code",
   "execution_count": 10,
   "metadata": {},
   "outputs": [],
   "source": [
    "data = []"
   ]
  },
  {
   "cell_type": "code",
   "execution_count": 11,
   "metadata": {},
   "outputs": [],
   "source": [
    "for i,j,k in zip(id_list,summary_list,dialog_list):\n",
    "    d = {'id':str(i),'summary':j,'dialogue':k}\n",
    "    data.append(d)"
   ]
  },
  {
   "cell_type": "code",
   "execution_count": 12,
   "metadata": {},
   "outputs": [
    {
     "data": {
      "text/plain": [
       "[{'id': '1',\n",
       "  'summary': 'capital of India is New Delhi',\n",
       "  'dialogue': 'Hi have you heard of the capital of India which is New Delhi'},\n",
       " {'id': '2',\n",
       "  'summary': 'Capital of Odisha is Bhubaneswar',\n",
       "  'dialogue': 'Hi do you know about capital of Odisha is Bhubaneswar and it is also known as temple city of India.'},\n",
       " {'id': '3',\n",
       "  'summary': 'first emperor of the Maurya Dynasty is Chandragupta Maurya ',\n",
       "  'dialogue': 'Chandragupta Maurya '},\n",
       " {'id': '4',\n",
       "  'summary': 'The ancient Indian text is considered the oldest surviving scripture in the world is Rigveda',\n",
       "  'dialogue': 'Rigveda '}]"
      ]
     },
     "execution_count": 12,
     "metadata": {},
     "output_type": "execute_result"
    }
   ],
   "source": [
    "data"
   ]
  },
  {
   "cell_type": "code",
   "execution_count": 18,
   "metadata": {},
   "outputs": [
    {
     "ename": "TypeError",
     "evalue": "unhashable type: 'slice'",
     "output_type": "error",
     "traceback": [
      "\u001b[1;31m---------------------------------------------------------------------------\u001b[0m",
      "\u001b[1;31mTypeError\u001b[0m                                 Traceback (most recent call last)",
      "Cell \u001b[1;32mIn[18], line 1\u001b[0m\n\u001b[1;32m----> 1\u001b[0m \u001b[43mdataset\u001b[49m\u001b[43m[\u001b[49m\u001b[38;5;124;43m\"\u001b[39;49m\u001b[38;5;124;43mtrain\u001b[39;49m\u001b[38;5;124;43m\"\u001b[39;49m\u001b[43m]\u001b[49m\u001b[43m[\u001b[49m\u001b[38;5;241;43m0\u001b[39;49m\u001b[43m:\u001b[49m\u001b[38;5;241;43m2\u001b[39;49m\u001b[43m]\u001b[49m\n",
      "\u001b[1;31mTypeError\u001b[0m: unhashable type: 'slice'"
     ]
    }
   ],
   "source": [
    "dataset[\"train\"][0:2]"
   ]
  },
  {
   "cell_type": "code",
   "execution_count": null,
   "metadata": {},
   "outputs": [],
   "source": []
  }
 ],
 "metadata": {
  "kernelspec": {
   "display_name": "venv",
   "language": "python",
   "name": "python3"
  },
  "language_info": {
   "codemirror_mode": {
    "name": "ipython",
    "version": 3
   },
   "file_extension": ".py",
   "mimetype": "text/x-python",
   "name": "python",
   "nbconvert_exporter": "python",
   "pygments_lexer": "ipython3",
   "version": "3.11.4"
  }
 },
 "nbformat": 4,
 "nbformat_minor": 2
}
